{
 "cells": [
  {
   "cell_type": "markdown",
   "metadata": {},
   "source": [
    "# 네트워크 의학 스터디 (2017년 3월 31일 - 첫번째 Python Study)\n",
    "\n"
   ]
  },
  {
   "cell_type": "markdown",
   "metadata": {},
   "source": [
    "## Python 문법 무엇이 중요한가?\n",
    "\n",
    "- 아래 코드를 바탕으로 의미가 있어 보이는 요소들을 파악해 보기로 하자.\n",
    "    - import, as, len, int, for 등의 특정 단어\n",
    "    - \\=\\, \\'\\', \\*, \\[\\], \\(\\), : 등의 특정 기호들\n",
    "    - 줄바꾸기, 들여쓰기\n",
    "    \n",
    "- python 문법을 읽히는 것: 이와 같은 특정 약속들을 익히고 활용하는 방법을 익히는 것.\n",
    "- python 문법을 읽히기 좋은 자료: [codeacademy](https://www.codecademy.com/ko/tracks/python-ko)"
   ]
  },
  {
   "cell_type": "markdown",
   "metadata": {
    "collapsed": true
   },
   "source": [
    "### 예시코드\n",
    "```\n",
    "import numpy as np\n",
    "import networkx as nx\n",
    "import matplotlib.pyplot as plt\n",
    "\n",
    "\n",
    "student_names = 'ABCDEFGHIJKLMNOPQRS'\n",
    "\n",
    "popularities = np.random.randn(len(student_names))\n",
    "\n",
    "approx_half_num = np.floor(len(student_names)/2)\n",
    "\n",
    "student_genders = 'F'*int(approx_half_num) + 'M'*int(len(student_names)-approx_half_num)\n",
    "\n",
    "student_genders = [g for g in student_genders]\n",
    "\n",
    "student_genders = np.random.permutation(student_genders)\n",
    "\n",
    "\n",
    "G = nx.DiGraph()\n",
    "\n",
    "students = []\n",
    "for i in range(len(student_names)):\n",
    "    students.append({'name':student_names[i], 'popularity':popularities[i] ,'gender':student_genders[i]})\n",
    "\n",
    "for st in students:\n",
    "    G.add_node(st['name'], attr={it[0]:it[1] for it in st.items() if it[0]!='name'})\n",
    "\n",
    "for st in students:\n",
    "\texcept_me_list = [ot for ot in students if ot is not st]\n",
    "\tfor st2 in except_me_list:\n",
    "\t\tif st2['popularity'] > st['popularity']:\n",
    "\t\t\tif st2['gender'] != st['gender']:\n",
    "\t\t\t\tG.add_edge(st['name'],st2['name'])\n",
    "\n",
    "\n",
    "\n",
    "pos = nx.spring_layout(G)\n",
    "nx.draw_networkx_nodes(G, pos, cmap=plt.get_cmap('jet'))\n",
    "nx.draw_networkx_edges(G, pos,  edge_color='k', arrows=True)\n",
    "nx.draw_networkx_labels(G, pos)\n",
    "plt.show()\n",
    "```"
   ]
  },
  {
   "cell_type": "markdown",
   "metadata": {},
   "source": [
    "## 변수의 할당\n",
    "- 변수(variables) vs 참조(reference)\n",
    "- 변수의 종류\n",
    "    1. scalar types\n",
    "    2. data structures or sequence types\n",
    "- scalar types:\n",
    "    - numeric types : float, int, long ...\n",
    "    - strings : 문자열\n",
    "    - booleans : 참 or 거짓\n",
    "    - None\n",
    "- 데이터형(type) 의 casting : 데이터형을 변형시키는 것."
   ]
  },
  {
   "cell_type": "code",
   "execution_count": null,
   "metadata": {
    "collapsed": true
   },
   "outputs": [],
   "source": [
    "a = 5; b = 6.12314; c = '10'\n",
    "d = a\n",
    "e = int(c)"
   ]
  },
  {
   "cell_type": "code",
   "execution_count": null,
   "metadata": {
    "collapsed": true
   },
   "outputs": [],
   "source": [
    "print(a)"
   ]
  },
  {
   "cell_type": "code",
   "execution_count": null,
   "metadata": {
    "collapsed": true
   },
   "outputs": [],
   "source": [
    "print(d)"
   ]
  },
  {
   "cell_type": "code",
   "execution_count": null,
   "metadata": {
    "collapsed": true
   },
   "outputs": [],
   "source": [
    "print(type(a))"
   ]
  },
  {
   "cell_type": "code",
   "execution_count": null,
   "metadata": {
    "collapsed": true
   },
   "outputs": [],
   "source": [
    "print(type(c))"
   ]
  },
  {
   "cell_type": "code",
   "execution_count": null,
   "metadata": {
    "collapsed": true
   },
   "outputs": [],
   "source": [
    "# string\n",
    "s = 'python'\n",
    "print(list(s))\n",
    "print(s[:3])"
   ]
  },
  {
   "cell_type": "code",
   "execution_count": null,
   "metadata": {
    "collapsed": false
   },
   "outputs": [],
   "source": [
    "#string 합치기\n",
    "s1 = 'py'\n",
    "s2 = 'thon'\n",
    "print(s1+s2)\n",
    "\n",
    "print(s1*10)"
   ]
  },
  {
   "cell_type": "code",
   "execution_count": null,
   "metadata": {
    "collapsed": false
   },
   "outputs": [],
   "source": [
    "#long string\n",
    "s = \"\"\"\n",
    "Python is a widely used high-level programming language for general-purpose programming, created by Guido van Rossum and first released in 1991. An interpreted language, Python has a design philosophy which emphasizes code readability (notably using whitespace indentation to delimit code blocks rather than curly braces or keywords), and a syntax which allows programmers to express concepts in fewer lines of code than possible in languages such as C++ or Java.[22][23] The language provides constructs intended to enable writing clear programs on both a small and large scale.[24]\n",
    "\n",
    "Python features a dynamic type system and automatic memory management and supports multiple programming paradigms, including object-oriented, imperative, functional programming, and procedural styles. It has a large and comprehensive standard library.[25]\n",
    "\"\"\"\n",
    "\n",
    "print(s)"
   ]
  },
  {
   "cell_type": "code",
   "execution_count": null,
   "metadata": {
    "collapsed": false
   },
   "outputs": [],
   "source": [
    "# Boolean\n",
    "bl = True\n",
    "bl2 = False\n",
    "\n",
    "if bl:\n",
    "    print ('bl is True')\n",
    "\n",
    "bl3 = 3 > 2\n",
    "print(bl3)"
   ]
  },
  {
   "cell_type": "markdown",
   "metadata": {},
   "source": [
    "## Data structures and sequences\n",
    "- 종류: tuple, list, dictionary, set\n",
    "#### list\n",
    " - 데이터를 저장할 수 있는 열\n",
    " - list 에 추가한 element 들을 넣은 순서대로 참조하고 있다.\n",
    " - list 에 있는 element 를 불러오기 위해서는 element 의 위치 (index) 를 가지고 불러와야 함. \n",
    " - python 에서 index 는 0 부터 시작함. 0번째 위치, 1번째 위치 ...\n",
    " - list 에 element 추가하기: append(), insert()\n",
    " - list 에서 element 지우기: remove(), pop()\n",
    " - 생성: 대괄호 / 불러오기: 대괄호+숫자\n",
    " \n",
    "#### dictionary\n",
    " - 마찬가지로 데이터를 저장하지만, 위치가 아닌 value 에 key 값을 할당함으로써 저장\n",
    " \n",
    " - 생성: 중괄호 / 불러오기: 대괄호 + key"
   ]
  },
  {
   "cell_type": "code",
   "execution_count": null,
   "metadata": {
    "collapsed": false
   },
   "outputs": [],
   "source": [
    "# list 생성하기\n",
    "a_list = [2,3,7,None]\n",
    "\n",
    "# list 에 element 추가하기\n",
    "a_list.append('string')\n",
    "print(a_list)\n",
    "\n",
    "# list 에 담긴 element 의 갯수\n",
    "print(len(a_list))\n",
    "\n",
    "# index 를 가지고 element 호출하기\n",
    "print(a_list[0])\n",
    "print(a_list[-1])\n",
    "\n",
    "# 값으로 index 찾기\n",
    "print(a_list.index('string'))"
   ]
  },
  {
   "cell_type": "code",
   "execution_count": null,
   "metadata": {
    "collapsed": true
   },
   "outputs": [],
   "source": [
    "# dictionary 생성하기\n",
    "a_dic = {'a':1,'b':2,'c':3}\n",
    "\n",
    "# dictionary 에 새로운 key 로 새로운 value 추가하기\n",
    "a_dic['ㅜnew_key'] = 4\n",
    "\n",
    "# dictionary 에서 특정 value 불러오기\n",
    "print(a_dic['a'])"
   ]
  },
  {
   "cell_type": "markdown",
   "metadata": {},
   "source": [
    "## 알고리즘의 흐름 조절하기\n",
    "\n",
    "#### loop\n",
    "- for / while 활용\n",
    "- while 문: 특정 조건을 만족시킬 때까지 실행내용을 반복\n",
    "- for 문: 정해진 횟수만큼 실행내용을 반복\n",
    "- python 에서는 for 문을 위주로 사용함.\n",
    "- for 문과 같이 사용하는 method 들: range(), len, enumerate\n",
    "\n",
    "\n",
    "#### if else condition\n",
    "- if (조건): 실행문1 else: 실행문2\n",
    "- 조건을 만족시키느냐 만족시키지 않느냐에 따라 다른 명령을 실행시킨다.\n",
    "- if, else, elseif 를 적절히 사용\n",
    "\n",
    "#### 위의 for loop 와 if condition 등은 들여쓰기(indentation) 를 적절하게 잘 사용하는 것이 중요하다."
   ]
  },
  {
   "cell_type": "code",
   "execution_count": null,
   "metadata": {
    "collapsed": true
   },
   "outputs": [],
   "source": [
    "# for loop\n",
    "total = 0\n",
    "sequence = [1,2,None,4, None, 5]\n",
    "for value in sequence:\n",
    "    if value is None:\n",
    "        continue\n",
    "    else:\n",
    "        total = total+value\n",
    "print (total)"
   ]
  },
  {
   "cell_type": "code",
   "execution_count": null,
   "metadata": {
    "collapsed": false
   },
   "outputs": [],
   "source": [
    "# while loop\n",
    "x = 256\n",
    "total = 0\n",
    "while x > 0:\n",
    "    if total > 500:\n",
    "        break\n",
    "    else:\n",
    "        total += x\n",
    "        x = x/2\n",
    "print (total)"
   ]
  },
  {
   "cell_type": "code",
   "execution_count": null,
   "metadata": {
    "collapsed": false
   },
   "outputs": [],
   "source": [
    "# len, range, enumerate\n",
    "ten_list = range(10)\n",
    "print (ten_list)\n",
    "\n",
    "len(ten_list)\n",
    "\n",
    "string_list = ['a','b','c']\n",
    "for str_idx in range(len(string_list)):\n",
    "    print(string_list[str_idx])\n",
    "\n",
    "for st in string_list:\n",
    "    print (st)\n",
    "\n",
    "for st_idx, st in enumerate(string_list):\n",
    "    print (st_idx)\n",
    "    print (st)\n"
   ]
  },
  {
   "cell_type": "markdown",
   "metadata": {},
   "source": [
    "## attribute 와 method\n",
    "#### python 의 모든 변수는 object 이다.\n",
    "- python 의 모든 변수를 객체(object) 라고 하며 속성(attribute) 를 부여할 수 있다.\n",
    "- object 에는 특정 value 혹은 function 을 속성으로 부여하게 된다.\n",
    "- object 에 부여된 function 을 method 라고 부른다.\n",
    "\n",
    "#### function 이란?\n",
    "- function 은 간단하게 input 을 받아 output 을 내보내는 black box 라고 생각하면 된다.\n",
    "- function 에 주어지는 input 을 arguement 라고 한다.\n",
    "- arguement 를 받아 어떤 처리를 하고 그 처리 결과를 원하는 형태로 가공하여 output 으로 내보낸다.\n",
    "- \"black box\" 이기 때문에 function 안에서 처리되는 일은 밖에서는 알지 못한다.\n",
    "    - function 안에서 새롭게 정의되는 변수들에 접근하지 못한다.\n",
    "\n",
    "#### function 정의하기.\n",
    "- 코드에서 2번이상 반복되는 부분이 있다면 function 으로 만들어보자.\n",
    "- function 은 재사용되는 코드를 효율적으로 관리하고자 쓰이는 목적이 강하다.\n",
    "- function 을 적절하게 사용하는 것을 통해 효율적인 코드를 작성할 수 있다."
   ]
  },
  {
   "cell_type": "code",
   "execution_count": null,
   "metadata": {
    "collapsed": false
   },
   "outputs": [],
   "source": [
    "# 객체의 attribute 에 대해서 알아보기.\n",
    "a= [1,2,3]\n",
    "# 해당 객체의 attribute 를 알아보기 위해서는 객체 뒤에 . 을 붙이고 tab 을 눌러보자.\n",
    "# 혹은\n",
    "import inspect\n",
    "inspect.getmembers(a)"
   ]
  },
  {
   "cell_type": "code",
   "execution_count": null,
   "metadata": {
    "collapsed": true
   },
   "outputs": [],
   "source": [
    "# function 정의하기\n",
    "def functionName(arg1,arg2):\n",
    "    return arg1 + arg2\n",
    "\n",
    "# function 사용하기\n",
    "a = functionName(1,2)\n",
    "print(a)"
   ]
  },
  {
   "cell_type": "markdown",
   "metadata": {},
   "source": [
    "## Module 불러오기\n",
    "#### 라이브러리의 활용\n",
    " - 모든 코드를 스스로 짤 수 없다.\n",
    " - 기존에 짜여있는 라이브러리를 활용해야 한다.\n",
    " - 라이브러리의 설치 \n",
    "     - 커맨드라인에서 아래의 커맨드를 실행하여 간단히 설치가능\n",
    "     - pip install package_name\n",
    "     - conda install package_name\n",
    "     - 하지만 운영체제가 무엇인지 버젼이 무엇인지, 다른 의존하는 package 가 무엇인지에 따라서 설치과정에서 문제가 생기는 경우도 많다. (따라서 꼬이지 않도록 virtualenv 라는 툴을 사용하는 것이 좋다. 궁금하신 분들은 나중에 질문 바랍니다.)\n",
    "     - google 검색을 통해서 알맞은 package 의 존재를 찾아보도록 한다.\n",
    "     \n",
    "#### 모듈 불러오기\n",
    " - import / from / as\n",
    " - import package_name 해당 모듈을 불러온다.\n",
    " - import package_name pckg 해당 모듈을 불러오는데 나는 pckg 라는 이름으로 사용할래\n",
    " - from package import sub_class 나는 해당 모듈에서 특정 sub_class 만을 불러와서 사용할래\n",
    " \n",
    "#### 직접 모듈 만들기\n",
    " - 스스로의 모듈을 직접 만드는 것은 어렵지 않다.\n",
    " - 특정 이름을 가진 'abc.py' 라는 파일을 만들면 import abc 로 해당 파일의 함수, 변수들을 가져와서 사용할 수 있다.\n",
    " - 스스로 자주쓰는 기능들을 작성하여 저장해 놓을 수 있다."
   ]
  },
  {
   "cell_type": "markdown",
   "metadata": {},
   "source": [
    "##  tip\n",
    "#### jupyter tip\n",
    "1. tab 을 잘 활용하자\n",
    "2. ? 물음표를 잘 활용하자\n",
    "3. 단축키 익히기 (shift + enter / control+enter)\n",
    "4. Help 링크\n",
    "\n",
    "#### 에러 tip\n",
    "1. 에러가 났다면 의심할 것: 1) 스펠링, 2) 들여쓰기, 3) 변수의 type, 4) data structure 에 원하는 element 가 있는지.\n",
    "2. error 시 나타나는 문구를 잘 읽어보자.\n",
    "     - 어디에서 error 가 난 것인지\n",
    "     - 원인이 무엇인지\n",
    "3. [stackoverflow](http://stackoverflow.com) 를 잘 활용하자.\n",
    "4. 당황하지말고 차근차근 생각하고 조급해 하지 말자."
   ]
  },
  {
   "cell_type": "markdown",
   "metadata": {},
   "source": [
    "## 오늘의 예제.\n",
    "\n",
    "##### 한반에 학생들간의 애정관계도를 network 로 표현해보자.\n",
    "1. 학생은 A, B, C ... S 까지의 임의의 이름을 가지고 있다.\n",
    "2. 각 학생들의 인기도를 무작위로 배정해보자.\n",
    "3. 각 학생들의 성별을 무작위로 배정해보자.\n",
    "4. 다음의 규칙을 따르는 애정관계도의 network 를 생성해보자.\n",
    "    - 인기도가 낮은 학생이 높은 학생을 좋아한다.\n",
    "    - 다른 성별을 가진 학생만을 좋아한다.\n",
    "5. 생성된 network 를 그림으로 그려보자."
   ]
  },
  {
   "cell_type": "code",
   "execution_count": 46,
   "metadata": {
    "collapsed": true
   },
   "outputs": [],
   "source": [
    "# 모듈 불러오기\n",
    "import numpy as np #  숫자 처리 관련 라이브러리\n",
    "import networkx as nx # 네트워크 분석 툴\n",
    "import matplotlib.pyplot as plt # visualization 툴"
   ]
  },
  {
   "cell_type": "code",
   "execution_count": 47,
   "metadata": {
    "collapsed": true
   },
   "outputs": [],
   "source": [
    "# 데이터 생성하기\n",
    "### 1.학생들의 이름 생성\n",
    "student_names = 'ABCDEFGHIJKLMNOPQRS'"
   ]
  },
  {
   "cell_type": "code",
   "execution_count": 48,
   "metadata": {
    "collapsed": true
   },
   "outputs": [],
   "source": [
    "### 2.인기도 생성\n",
    "popularities = np.random.randn(len(student_names)) # 학생수와 같은 랜덤한 숫자 리스트를 만든다"
   ]
  },
  {
   "cell_type": "code",
   "execution_count": 49,
   "metadata": {
    "collapsed": true
   },
   "outputs": [],
   "source": [
    "### 3. 성별 생성\n",
    "approx_half_num = np.floor(len(student_names)/2) # 절반정도의 숫자를 알아낸다. (홀수일 경우를 대비하면서)\n",
    "\n",
    "student_genders = 'F'*int(approx_half_num) + 'M'*int(len(student_names)-approx_half_num) # 먼저 문자열의 형태로 만든다.\n",
    "\n",
    "student_genders = list(student_genders) # 문자열을 list 로 변환한다.\n",
    "\n",
    "student_genders = np.random.permutation(student_genders) # 성별 list 를 랜덤하게 섞는다. (갯수를 유지하며 순서만)"
   ]
  },
  {
   "cell_type": "code",
   "execution_count": 50,
   "metadata": {
    "collapsed": true
   },
   "outputs": [],
   "source": [
    "# 네트워크 객체 생성하기 (방향이 있는 directed network)\n",
    "G = nx.DiGraph()"
   ]
  },
  {
   "cell_type": "code",
   "execution_count": 51,
   "metadata": {
    "collapsed": true
   },
   "outputs": [],
   "source": [
    "# 학생들의 list 만들기 (떨어져 있던 값들을 개별 학생별로 묶어준다) - dictionary 를 이용하여\n",
    "\n",
    "students = []  # 빈 list 생성\n",
    "\n",
    "for i in range(len(student_names)): # for loop (학생이름의 수 만큼 반복하는 for loop) (동시에 i 라는 값은 0부터 n-1 까지 값을 변환하게 된다)\n",
    "    students.append({'name':student_names[i], 'popularity':popularities[i] ,'gender':student_genders[i]})\n",
    "    # append: list 에 element 를 추가\n",
    "    # 그 안에는 dictionary 를 만들고 있다."
   ]
  },
  {
   "cell_type": "code",
   "execution_count": 52,
   "metadata": {
    "collapsed": true
   },
   "outputs": [],
   "source": [
    "# 네트워크에 node 추가하기\n",
    "for st in students:\n",
    "    # name 을 추가하고, 해당 node 의 attribute 로 name 을 제외한 나머지 속성들을 넣는다.\n",
    "    G.add_node(st['name'], attr={it[0]:it[1] for it in st.items() if it[0]!='name'}) \n"
   ]
  },
  {
   "cell_type": "code",
   "execution_count": null,
   "metadata": {
    "collapsed": true
   },
   "outputs": [],
   "source": [
    "# 애정관계도 rule 에 따라 edge 를 연결해보자.\n",
    "for st in students:\n",
    "    # st를 제외한 다른 학생들의 list 만들기\n",
    "    except_me_list = [ot for ot in students if ot is not st]\n",
    "    for st2 in except_me_list:     # 또 다른 loop (st2 로 바뀜에 유의)\n",
    "        if st2['popularity'] > st['popularity']: # 조건문 1 st2가 st 보다 인기도가 높을 경우만\n",
    "            if st2['gender'] != st['gender']: # 서로의 성별이 다를때만\n",
    "                G.add_edge(st['name'],st2['name']) # st 로부터 st2 로의 애정 edge 를 추가한다."
   ]
  },
  {
   "cell_type": "code",
   "execution_count": 57,
   "metadata": {
    "collapsed": false
   },
   "outputs": [
    {
     "data": {
      "image/png": "[encoded data removed]",
      "text/plain": [
       "<matplotlib.figure.Figure at 0x1139ff080>"
      ]
     },
     "metadata": {},
     "output_type": "display_data"
    }
   ],
   "source": [
    "# 애정관계도의 visualization\n",
    "\n",
    "pos = nx.spring_layout(G) # node 들의 위치 정하기\n",
    "\n",
    "nx.draw_networkx_nodes(G, pos, node_color='r', nodelist=[st['name'] for st in students if st['gender']=='F']) # 여성 노드 그리기\n",
    "nx.draw_networkx_nodes(G, pos, node_color='b', nodelist=[st['name'] for st in students if st['gender']=='M']) # 남성 노드 그리기\n",
    "nx.draw_networkx_edges(G, pos,  edge_color='k', arrows=True) # edge 그리기\n",
    "nx.draw_networkx_labels(G, pos) # label 넣기\n",
    "plt.show() # 보여주기"
   ]
  }
 ],
 "metadata": {
  "celltoolbar": "Raw Cell Format",
  "kernelspec": {
   "display_name": "Python 3",
   "language": "python",
   "name": "python3"
  },
  "language_info": {
   "codemirror_mode": {
    "name": "ipython",
    "version": 3
   },
   "file_extension": ".py",
   "mimetype": "text/x-python",
   "name": "python",
   "nbconvert_exporter": "python",
   "pygments_lexer": "ipython3",
   "version": "3.6.0"
  }
 },
 "nbformat": 4,
 "nbformat_minor": 0
}
